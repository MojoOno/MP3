{
 "cells": [
  {
   "cell_type": "code",
   "execution_count": null,
   "id": "d1d19768",
   "metadata": {},
   "outputs": [],
   "source": [
    "import pandas as pd\n",
    "import numpy as np\n",
    "import matplotlib.pyplot as plt\n",
    "import seaborn as sns\n",
    "\n",
    "from sklearn.model_selection import train_test_split\n",
    "from sklearn import linear_model\n",
    "from sklearn.linear_model import LinearRegression\n",
    "import sklearn.metrics as sm\n",
    "\n",
    "import pickle\n",
    "\n",
    "from DataExploration import *\n",
    "from DataExploration import descriptive_statistics as ds\n",
    "from DataExploration import plots as pl"
   ]
  },
  {
   "cell_type": "markdown",
   "id": "c605b43e",
   "metadata": {},
   "source": [
    "## Guidelines\n",
    "\n",
    "I nedenstående codeblock udfyld de givne variabler med det ønskede data, og kør det.\n",
    "\n",
    "**Indsæt variabler nedenfor**\n"
   ]
  },
  {
   "cell_type": "code",
   "execution_count": null,
   "id": "41724758",
   "metadata": {},
   "outputs": [],
   "source": [
    "df = pd.read_csv('WA_Fn-UseC_-HR-Employee-Attrition.csv')"
   ]
  },
  {
   "cell_type": "code",
   "execution_count": null,
   "id": "7445c7d1",
   "metadata": {},
   "outputs": [],
   "source": [
    "df.head()"
   ]
  },
  {
   "cell_type": "code",
   "execution_count": null,
   "id": "7609fa33",
   "metadata": {},
   "outputs": [],
   "source": [
    "df.shape"
   ]
  },
  {
   "cell_type": "code",
   "execution_count": null,
   "id": "da8f8810",
   "metadata": {},
   "outputs": [],
   "source": [
    "ds.describe_data(df, verbose=True, round_digits=2)"
   ]
  },
  {
   "cell_type": "code",
   "execution_count": null,
   "id": "8a705e10",
   "metadata": {},
   "outputs": [],
   "source": [
    "df.drop(['Attrition', 'BusinessTravel', 'Department', 'EducationField', 'Gender', 'JobRole', 'MaritalStatus', 'Over18', 'OverTime', 'StandardHours'], axis=1, inplace=True)"
   ]
  },
  {
   "cell_type": "code",
   "execution_count": null,
   "id": "f96e01bc",
   "metadata": {},
   "outputs": [],
   "source": [
    "pl.show_histograms(df, layout='grid', bell_curve=True)"
   ]
  },
  {
   "cell_type": "code",
   "execution_count": null,
   "id": "e65fb707",
   "metadata": {},
   "outputs": [],
   "source": [
    "pl.show_boxplots(df, layout='grid')"
   ]
  },
  {
   "cell_type": "code",
   "execution_count": null,
   "id": "49b82983",
   "metadata": {},
   "outputs": [],
   "source": [
    "pl.show_correlation_heatmap(df)"
   ]
  },
  {
   "cell_type": "code",
   "execution_count": null,
   "id": "84c3bc71",
   "metadata": {},
   "outputs": [],
   "source": [
    "pl.show_correlation_heatmap(df[['TotalWorkingYears', 'Age', 'MonthlyIncome', 'MonthlyRate', 'JobLevel', 'YearsAtCompany', 'YearsInCurrentRole', 'YearsSinceLastPromotion', 'YearsWithCurrManager']])"
   ]
  },
  {
   "cell_type": "markdown",
   "id": "ebb6422e",
   "metadata": {},
   "source": [
    "Looking at the correlation heatmap, we've deducted that a linear regression on monthly income as our dependant variable. Since job level is a categorical variable, we only see a relevant correlation with total working years, making that our independant variable."
   ]
  },
  {
   "cell_type": "code",
   "execution_count": null,
   "id": "f6c61af3",
   "metadata": {},
   "outputs": [],
   "source": [
    "plt.xlabel('Total Working Years')\n",
    "plt.ylabel('Monthly Income')\n",
    "plt.title('Monthly Income vs Total Working Years')\n",
    "plt.scatter(df['TotalWorkingYears'], df['MonthlyIncome'], color='blue')\n",
    "plt.show()"
   ]
  },
  {
   "cell_type": "markdown",
   "id": "47982e9e",
   "metadata": {},
   "source": [
    "## Linear Regression"
   ]
  },
  {
   "cell_type": "code",
   "execution_count": null,
   "id": "268f1f05",
   "metadata": {},
   "outputs": [],
   "source": [
    "# Independent variable\n",
    "X = df[['TotalWorkingYears', 'JobLevel']].values.reshape(-1, 2)\n",
    "# Dependent variable\n",
    "y = df['MonthlyIncome'].values.reshape(-1, 1)"
   ]
  },
  {
   "cell_type": "code",
   "execution_count": null,
   "id": "0eed6588",
   "metadata": {},
   "outputs": [],
   "source": [
    "X_train, X_test, y_train, y_test = train_test_split(X, y, random_state=42, test_size=0.20)"
   ]
  },
  {
   "cell_type": "code",
   "execution_count": null,
   "id": "2a3b376b",
   "metadata": {},
   "outputs": [],
   "source": [
    "myreg = LinearRegression()"
   ]
  },
  {
   "cell_type": "code",
   "execution_count": null,
   "id": "c503f627",
   "metadata": {},
   "outputs": [],
   "source": [
    "myreg.fit(X_train, y_train)\n",
    "myreg"
   ]
  },
  {
   "cell_type": "code",
   "execution_count": null,
   "id": "dc9fcfbc",
   "metadata": {},
   "outputs": [],
   "source": [
    "a = myreg.coef_\n",
    "b = myreg.intercept_"
   ]
  },
  {
   "cell_type": "code",
   "execution_count": null,
   "id": "010a9715",
   "metadata": {},
   "outputs": [],
   "source": [
    "y_predicted = myreg.predict(X_test)"
   ]
  },
  {
   "cell_type": "code",
   "execution_count": null,
   "id": "00d88681",
   "metadata": {},
   "outputs": [],
   "source": [
    "mae = sm.mean_absolute_error(y_test, y_predicted)\n",
    "mse = sm.mean_squared_error(y_test, y_predicted)\n",
    "rmse = np.sqrt(sm.mean_squared_error(y_test, y_predicted))\n",
    "eV = round(sm.explained_variance_score(y_test, y_predicted), 2)\n",
    "r2 = sm.r2_score(y_test, y_predicted)\n",
    "print('Mean Absolute Error ',mae)\n",
    "print('Mean Squared Error ',mse)\n",
    "print('Root Mean Squared Error ',rmse)\n",
    "print('Explained variance score ',eV )\n",
    "print('R2 score ',r2)\n",
    "\n"
   ]
  },
  {
   "cell_type": "code",
   "execution_count": null,
   "id": "feddb735",
   "metadata": {},
   "outputs": [],
   "source": [
    "import ShowLinearRegression as slr"
   ]
  },
  {
   "cell_type": "code",
   "execution_count": null,
   "id": "54a8b4ab",
   "metadata": {},
   "outputs": [],
   "source": [
    "# default test_size is 0.2 and the test_shape is 42 as default\n",
    "slr.show_model(df, ['JobLevel', 'TotalWorkingYears'], ['MonthlyIncome'], test_size=0.25)"
   ]
  }
 ],
 "metadata": {
  "kernelspec": {
   "display_name": "base",
   "language": "python",
   "name": "python3"
  },
  "language_info": {
   "codemirror_mode": {
    "name": "ipython",
    "version": 3
   },
   "file_extension": ".py",
   "mimetype": "text/x-python",
   "name": "python",
   "nbconvert_exporter": "python",
   "pygments_lexer": "ipython3",
   "version": "3.13.5"
  }
 },
 "nbformat": 4,
 "nbformat_minor": 5
}
